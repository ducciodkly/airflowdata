{
 "cells": [
  {
   "cell_type": "markdown",
   "metadata": {},
   "source": [
    "# Student Alcohol Consumption"
   ]
  },
  {
   "attachments": {},
   "cell_type": "markdown",
   "metadata": {},
   "source": [
    "### Step 1. Import the necessary libraries"
   ]
  },
  {
   "cell_type": "code",
   "execution_count": 1,
   "metadata": {
    "collapsed": false
   },
   "outputs": [],
   "source": [
    "import pandas as pd"
   ]
  },
  {
   "attachments": {},
   "cell_type": "markdown",
   "metadata": {},
   "source": [
    "### Step 2. Import the dataset student-mat.csv"
   ]
  },
  {
   "cell_type": "code",
   "execution_count": 20,
   "metadata": {},
   "outputs": [
    {
     "name": "stdout",
     "output_type": "stream",
     "text": [
      "    school sex  age address famsize Pstatus  Medu  Fedu      Mjob      Fjob  \\\n",
      "0       GP   F   18       U     GT3       A     4     4   at_home   teacher   \n",
      "1       GP   F   17       U     GT3       T     1     1   at_home     other   \n",
      "2       GP   F   15       U     LE3       T     1     1   at_home     other   \n",
      "3       GP   F   15       U     GT3       T     4     2    health  services   \n",
      "4       GP   F   16       U     GT3       T     3     3     other     other   \n",
      "..     ...  ..  ...     ...     ...     ...   ...   ...       ...       ...   \n",
      "390     MS   M   20       U     LE3       A     2     2  services  services   \n",
      "391     MS   M   17       U     LE3       T     3     1  services  services   \n",
      "392     MS   M   21       R     GT3       T     1     1     other     other   \n",
      "393     MS   M   18       R     LE3       T     3     2  services     other   \n",
      "394     MS   M   19       U     LE3       T     1     1     other   at_home   \n",
      "\n",
      "     ... famrel freetime  goout  Dalc  Walc health absences  G1  G2  G3  \n",
      "0    ...      4        3      4     1     1      3        6   5   6   6  \n",
      "1    ...      5        3      3     1     1      3        4   5   5   6  \n",
      "2    ...      4        3      2     2     3      3       10   7   8  10  \n",
      "3    ...      3        2      2     1     1      5        2  15  14  15  \n",
      "4    ...      4        3      2     1     2      5        4   6  10  10  \n",
      "..   ...    ...      ...    ...   ...   ...    ...      ...  ..  ..  ..  \n",
      "390  ...      5        5      4     4     5      4       11   9   9   9  \n",
      "391  ...      2        4      5     3     4      2        3  14  16  16  \n",
      "392  ...      5        5      3     3     3      3        3  10   8   7  \n",
      "393  ...      4        4      1     3     4      5        0  11  12  10  \n",
      "394  ...      3        2      3     3     3      5        5   8   9   9  \n",
      "\n",
      "[395 rows x 33 columns]\n"
     ]
    }
   ],
   "source": [
    "df = pd.read_csv('../data/student-mat.csv', encoding ='utf-8')\n",
    "print(df)"
   ]
  },
  {
   "cell_type": "markdown",
   "metadata": {},
   "source": [
    "### Step 3. Assign it to a variable called df."
   ]
  },
  {
   "cell_type": "code",
   "execution_count": 3,
   "metadata": {
    "collapsed": false
   },
   "outputs": [
    {
     "name": "stdout",
     "output_type": "stream",
     "text": [
      "    school sex  age address famsize Pstatus  Medu  Fedu      Mjob      Fjob  \\\n",
      "0       GP   F   18       U     GT3       A     4     4   at_home   teacher   \n",
      "1       GP   F   17       U     GT3       T     1     1   at_home     other   \n",
      "2       GP   F   15       U     LE3       T     1     1   at_home     other   \n",
      "3       GP   F   15       U     GT3       T     4     2    health  services   \n",
      "4       GP   F   16       U     GT3       T     3     3     other     other   \n",
      "..     ...  ..  ...     ...     ...     ...   ...   ...       ...       ...   \n",
      "390     MS   M   20       U     LE3       A     2     2  services  services   \n",
      "391     MS   M   17       U     LE3       T     3     1  services  services   \n",
      "392     MS   M   21       R     GT3       T     1     1     other     other   \n",
      "393     MS   M   18       R     LE3       T     3     2  services     other   \n",
      "394     MS   M   19       U     LE3       T     1     1     other   at_home   \n",
      "\n",
      "     ... famrel freetime  goout  Dalc  Walc health absences  G1  G2  G3  \n",
      "0    ...      4        3      4     1     1      3        6   5   6   6  \n",
      "1    ...      5        3      3     1     1      3        4   5   5   6  \n",
      "2    ...      4        3      2     2     3      3       10   7   8  10  \n",
      "3    ...      3        2      2     1     1      5        2  15  14  15  \n",
      "4    ...      4        3      2     1     2      5        4   6  10  10  \n",
      "..   ...    ...      ...    ...   ...   ...    ...      ...  ..  ..  ..  \n",
      "390  ...      5        5      4     4     5      4       11   9   9   9  \n",
      "391  ...      2        4      5     3     4      2        3  14  16  16  \n",
      "392  ...      5        5      3     3     3      3        3  10   8   7  \n",
      "393  ...      4        4      1     3     4      5        0  11  12  10  \n",
      "394  ...      3        2      3     3     3      5        5   8   9   9  \n",
      "\n",
      "[395 rows x 33 columns]\n"
     ]
    }
   ],
   "source": [
    "df = pd.read_csv('../data/student-mat.csv', encoding ='utf-8')\n",
    "print(df)"
   ]
  },
  {
   "cell_type": "markdown",
   "metadata": {},
   "source": [
    "### Step 4. For the purpose of this exercise slice the dataframe from 'school' until the 'guardian' column"
   ]
  },
  {
   "cell_type": "code",
   "execution_count": 6,
   "metadata": {
    "collapsed": false
   },
   "outputs": [
    {
     "name": "stdout",
     "output_type": "stream",
     "text": [
      "    school sex  age address famsize Pstatus  Medu  Fedu      Mjob      Fjob  \\\n",
      "0       GP   F   18       U     GT3       A     4     4   at_home   teacher   \n",
      "1       GP   F   17       U     GT3       T     1     1   at_home     other   \n",
      "2       GP   F   15       U     LE3       T     1     1   at_home     other   \n",
      "3       GP   F   15       U     GT3       T     4     2    health  services   \n",
      "4       GP   F   16       U     GT3       T     3     3     other     other   \n",
      "..     ...  ..  ...     ...     ...     ...   ...   ...       ...       ...   \n",
      "390     MS   M   20       U     LE3       A     2     2  services  services   \n",
      "391     MS   M   17       U     LE3       T     3     1  services  services   \n",
      "392     MS   M   21       R     GT3       T     1     1     other     other   \n",
      "393     MS   M   18       R     LE3       T     3     2  services     other   \n",
      "394     MS   M   19       U     LE3       T     1     1     other   at_home   \n",
      "\n",
      "     reason guardian  \n",
      "0    course   mother  \n",
      "1    course   father  \n",
      "2     other   mother  \n",
      "3      home   mother  \n",
      "4      home   father  \n",
      "..      ...      ...  \n",
      "390  course    other  \n",
      "391  course   mother  \n",
      "392  course    other  \n",
      "393  course   mother  \n",
      "394  course   father  \n",
      "\n",
      "[395 rows x 12 columns]\n"
     ]
    }
   ],
   "source": [
    "start_index = df.columns.get_loc('school')\n",
    "end_index = df.columns.get_loc('guardian')\n",
    "\n",
    "slice_df = df.iloc[:,start_index:end_index + 1]\n",
    "print(slice_df)"
   ]
  },
  {
   "cell_type": "markdown",
   "metadata": {},
   "source": [
    "### Step 5. Create a lambda function that will capitalize strings."
   ]
  },
  {
   "cell_type": "code",
   "execution_count": 11,
   "metadata": {
    "collapsed": false
   },
   "outputs": [],
   "source": [
    "capitalize_strings = lambda x: x.capitalize()"
   ]
  },
  {
   "cell_type": "markdown",
   "metadata": {},
   "source": [
    "### Step 6. Capitalize both Mjob and Fjob"
   ]
  },
  {
   "cell_type": "code",
   "execution_count": 24,
   "metadata": {
    "collapsed": false
   },
   "outputs": [
    {
     "name": "stdout",
     "output_type": "stream",
     "text": [
      "         Mjob      Fjob\n",
      "0     At_home   Teacher\n",
      "1     At_home     Other\n",
      "2     At_home     Other\n",
      "3      Health  Services\n",
      "4       Other     Other\n",
      "..        ...       ...\n",
      "390  Services  Services\n",
      "391  Services  Services\n",
      "392     Other     Other\n",
      "393  Services     Other\n",
      "394     Other   At_home\n",
      "\n",
      "[395 rows x 2 columns]\n"
     ]
    }
   ],
   "source": [
    "capitalize_two_columns = df[['Mjob', 'Fjob']].apply(lambda x: x.str.capitalize())\n",
    "print(capitalize_two_columns)"
   ]
  },
  {
   "cell_type": "markdown",
   "metadata": {},
   "source": [
    "### Step 7. Print the last elements of the data set."
   ]
  },
  {
   "cell_type": "code",
   "execution_count": 33,
   "metadata": {
    "collapsed": false
   },
   "outputs": [
    {
     "name": "stdout",
     "output_type": "stream",
     "text": [
      "    school sex  age address famsize Pstatus  Medu  Fedu   Mjob     Fjob  ...  \\\n",
      "394     MS   M   19       U     LE3       T     1     1  other  at_home  ...   \n",
      "\n",
      "    famrel freetime  goout  Dalc  Walc health absences G1 G2 G3  \n",
      "394      3        2      3     3     3      5        5  8  9  9  \n",
      "\n",
      "[1 rows x 33 columns]\n",
      "school             MS\n",
      "sex                 M\n",
      "age                19\n",
      "address             U\n",
      "famsize           LE3\n",
      "Pstatus             T\n",
      "Medu                1\n",
      "Fedu                1\n",
      "Mjob            other\n",
      "Fjob          at_home\n",
      "reason         course\n",
      "guardian       father\n",
      "traveltime          1\n",
      "studytime           1\n",
      "failures            0\n",
      "schoolsup          no\n",
      "famsup             no\n",
      "paid               no\n",
      "activities         no\n",
      "nursery           yes\n",
      "higher            yes\n",
      "internet          yes\n",
      "romantic           no\n",
      "famrel              3\n",
      "freetime            2\n",
      "goout               3\n",
      "Dalc                3\n",
      "Walc                3\n",
      "health              5\n",
      "absences            5\n",
      "G1                  8\n",
      "G2                  9\n",
      "G3                  9\n",
      "Name: 394, dtype: object\n"
     ]
    }
   ],
   "source": [
    "print(df.tail(1))\n",
    "print(df.iloc[-1])"
   ]
  },
  {
   "cell_type": "markdown",
   "metadata": {},
   "source": [
    "### Step 8. Did you notice the original dataframe is still lowercase? Why is that? Fix it and capitalize Mjob and Fjob."
   ]
  },
  {
   "cell_type": "code",
   "execution_count": 35,
   "metadata": {
    "collapsed": false
   },
   "outputs": [
    {
     "name": "stdout",
     "output_type": "stream",
     "text": [
      "         Mjob      Fjob\n",
      "0     At_home   Teacher\n",
      "1     At_home     Other\n",
      "2     At_home     Other\n",
      "3      Health  Services\n",
      "4       Other     Other\n",
      "..        ...       ...\n",
      "390  Services  Services\n",
      "391  Services  Services\n",
      "392     Other     Other\n",
      "393  Services     Other\n",
      "394     Other   At_home\n",
      "\n",
      "[395 rows x 2 columns]\n"
     ]
    }
   ],
   "source": [
    "df[['Mjob', 'Fjob']] = df[['Mjob', 'Fjob']].apply(lambda x: x.str.capitalize())\n",
    "print(df[['Mjob', 'Fjob']])"
   ]
  },
  {
   "cell_type": "markdown",
   "metadata": {},
   "source": [
    "### Step 9. Create a function called majority that returns a boolean value to a new column called legal_drinker (Consider majority as older than 17 years old)"
   ]
  },
  {
   "cell_type": "code",
   "execution_count": null,
   "metadata": {},
   "outputs": [],
   "source": [
    "def majority(age):\n",
    "    return age > 17"
   ]
  },
  {
   "cell_type": "code",
   "execution_count": 38,
   "metadata": {
    "collapsed": false
   },
   "outputs": [
    {
     "name": "stdout",
     "output_type": "stream",
     "text": [
      "0       True\n",
      "1      False\n",
      "2      False\n",
      "3      False\n",
      "4      False\n",
      "       ...  \n",
      "390     True\n",
      "391    False\n",
      "392     True\n",
      "393     True\n",
      "394     True\n",
      "Name: legal_drinker, Length: 395, dtype: bool\n"
     ]
    }
   ],
   "source": [
    "df['legal_drinker'] = df['age'].apply(majority)\n",
    "print(df['legal_drinker'])"
   ]
  },
  {
   "cell_type": "markdown",
   "metadata": {},
   "source": [
    "### Step 10. Multiply every number of the dataset by 10. \n",
    "##### I know this makes no sense, don't forget it is just an exercise"
   ]
  },
  {
   "cell_type": "code",
   "execution_count": 65,
   "metadata": {
    "collapsed": false
   },
   "outputs": [
    {
     "name": "stdout",
     "output_type": "stream",
     "text": [
      "    school sex  age address famsize Pstatus  Medu  Fedu      Mjob      Fjob  \\\n",
      "0       GP   F   18       U     GT3       A     4     4   At_home   Teacher   \n",
      "1       GP   F   17       U     GT3       T     1     1   At_home     Other   \n",
      "2       GP   F   15       U     LE3       T     1     1   At_home     Other   \n",
      "3       GP   F   15       U     GT3       T     4     2    Health  Services   \n",
      "4       GP   F   16       U     GT3       T     3     3     Other     Other   \n",
      "..     ...  ..  ...     ...     ...     ...   ...   ...       ...       ...   \n",
      "390     MS   M   20       U     LE3       A     2     2  Services  Services   \n",
      "391     MS   M   17       U     LE3       T     3     1  Services  Services   \n",
      "392     MS   M   21       R     GT3       T     1     1     Other     Other   \n",
      "393     MS   M   18       R     LE3       T     3     2  Services     Other   \n",
      "394     MS   M   19       U     LE3       T     1     1     Other   At_home   \n",
      "\n",
      "     ... freetime goout  Dalc  Walc  health absences  G1  G2  G3 legal_drinker  \n",
      "0    ...        3     4     1     1       3        6   5   6   6          True  \n",
      "1    ...        3     3     1     1       3        4   5   5   6         False  \n",
      "2    ...        3     2     2     3       3       10   7   8  10         False  \n",
      "3    ...        2     2     1     1       5        2  15  14  15         False  \n",
      "4    ...        3     2     1     2       5        4   6  10  10         False  \n",
      "..   ...      ...   ...   ...   ...     ...      ...  ..  ..  ..           ...  \n",
      "390  ...        5     4     4     5       4       11   9   9   9          True  \n",
      "391  ...        4     5     3     4       2        3  14  16  16         False  \n",
      "392  ...        5     3     3     3       3        3  10   8   7          True  \n",
      "393  ...        4     1     3     4       5        0  11  12  10          True  \n",
      "394  ...        2     3     3     3       5        5   8   9   9          True  \n",
      "\n",
      "[395 rows x 34 columns]\n"
     ]
    }
   ],
   "source": [
    "df_copy = df.copy()\n",
    "print(df_copy)"
   ]
  },
  {
   "cell_type": "code",
   "execution_count": 66,
   "metadata": {
    "collapsed": false
   },
   "outputs": [
    {
     "name": "stdout",
     "output_type": "stream",
     "text": [
      "    school sex  age address famsize Pstatus  Medu  Fedu      Mjob      Fjob  \\\n",
      "0       GP   F  180       U     GT3       A    40    40   At_home   Teacher   \n",
      "1       GP   F  170       U     GT3       T    10    10   At_home     Other   \n",
      "2       GP   F  150       U     LE3       T    10    10   At_home     Other   \n",
      "3       GP   F  150       U     GT3       T    40    20    Health  Services   \n",
      "4       GP   F  160       U     GT3       T    30    30     Other     Other   \n",
      "..     ...  ..  ...     ...     ...     ...   ...   ...       ...       ...   \n",
      "390     MS   M  200       U     LE3       A    20    20  Services  Services   \n",
      "391     MS   M  170       U     LE3       T    30    10  Services  Services   \n",
      "392     MS   M  210       R     GT3       T    10    10     Other     Other   \n",
      "393     MS   M  180       R     LE3       T    30    20  Services     Other   \n",
      "394     MS   M  190       U     LE3       T    10    10     Other   At_home   \n",
      "\n",
      "     ... freetime goout  Dalc  Walc  health absences   G1   G2   G3  \\\n",
      "0    ...       30    40    10    10      30       60   50   60   60   \n",
      "1    ...       30    30    10    10      30       40   50   50   60   \n",
      "2    ...       30    20    20    30      30      100   70   80  100   \n",
      "3    ...       20    20    10    10      50       20  150  140  150   \n",
      "4    ...       30    20    10    20      50       40   60  100  100   \n",
      "..   ...      ...   ...   ...   ...     ...      ...  ...  ...  ...   \n",
      "390  ...       50    40    40    50      40      110   90   90   90   \n",
      "391  ...       40    50    30    40      20       30  140  160  160   \n",
      "392  ...       50    30    30    30      30       30  100   80   70   \n",
      "393  ...       40    10    30    40      50        0  110  120  100   \n",
      "394  ...       20    30    30    30      50       50   80   90   90   \n",
      "\n",
      "    legal_drinker  \n",
      "0            True  \n",
      "1           False  \n",
      "2           False  \n",
      "3           False  \n",
      "4           False  \n",
      "..            ...  \n",
      "390          True  \n",
      "391         False  \n",
      "392          True  \n",
      "393          True  \n",
      "394          True  \n",
      "\n",
      "[395 rows x 34 columns]\n"
     ]
    }
   ],
   "source": [
    "multi_ten = df_copy.select_dtypes('int64','float64').columns\n",
    "for col in multi_ten:\n",
    "    df_copy[col] = df_copy[col] * 10\n",
    "print(df_copy)"
   ]
  }
 ],
 "metadata": {
  "anaconda-cloud": {},
  "kernelspec": {
   "display_name": ".venv",
   "language": "python",
   "name": "python3"
  },
  "language_info": {
   "codemirror_mode": {
    "name": "ipython",
    "version": 3
   },
   "file_extension": ".py",
   "mimetype": "text/x-python",
   "name": "python",
   "nbconvert_exporter": "python",
   "pygments_lexer": "ipython3",
   "version": "3.12.4"
  }
 },
 "nbformat": 4,
 "nbformat_minor": 0
}
