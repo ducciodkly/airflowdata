{
 "cells": [
  {
   "cell_type": "markdown",
   "metadata": {},
   "source": [
    "# Ex2 - Getting and Knowing your Data"
   ]
  },
  {
   "attachments": {},
   "cell_type": "markdown",
   "metadata": {},
   "source": [
    "### Step 1. Import library"
   ]
  },
  {
   "cell_type": "code",
   "execution_count": 52,
   "metadata": {
    "collapsed": false
   },
   "outputs": [],
   "source": [
    "import pandas as pd"
   ]
  },
  {
   "attachments": {},
   "cell_type": "markdown",
   "metadata": {},
   "source": [
    "### Step 2. Import the dataset chipotle.tsv "
   ]
  },
  {
   "cell_type": "code",
   "execution_count": 53,
   "metadata": {},
   "outputs": [
    {
     "name": "stdout",
     "output_type": "stream",
     "text": [
      "   order_id  quantity                              item_name  \\\n",
      "0         1         1           Chips and Fresh Tomato Salsa   \n",
      "1         1         1                                   Izze   \n",
      "2         1         1                       Nantucket Nectar   \n",
      "3         1         1  Chips and Tomatillo-Green Chili Salsa   \n",
      "4         2         2                           Chicken Bowl   \n",
      "\n",
      "                                  choice_description item_price  \n",
      "0                                                NaN     $2.39   \n",
      "1                                       [Clementine]     $3.39   \n",
      "2                                            [Apple]     $3.39   \n",
      "3                                                NaN     $2.39   \n",
      "4  [Tomatillo-Red Chili Salsa (Hot), [Black Beans...    $16.98   \n"
     ]
    }
   ],
   "source": [
    "import pandas as pd\n",
    "\n",
    "df = pd.read_csv('../data/chipotle.tsv', sep = '\\t')\n",
    "print(df.head())"
   ]
  },
  {
   "cell_type": "markdown",
   "metadata": {},
   "source": [
    "### Step 3. Assign it to a variable called chipo."
   ]
  },
  {
   "cell_type": "code",
   "execution_count": 54,
   "metadata": {
    "collapsed": false
   },
   "outputs": [
    {
     "name": "stdout",
     "output_type": "stream",
     "text": [
      "   order_id  quantity                              item_name  \\\n",
      "0         1         1           Chips and Fresh Tomato Salsa   \n",
      "1         1         1                                   Izze   \n",
      "2         1         1                       Nantucket Nectar   \n",
      "3         1         1  Chips and Tomatillo-Green Chili Salsa   \n",
      "4         2         2                           Chicken Bowl   \n",
      "\n",
      "                                  choice_description item_price  \n",
      "0                                                NaN     $2.39   \n",
      "1                                       [Clementine]     $3.39   \n",
      "2                                            [Apple]     $3.39   \n",
      "3                                                NaN     $2.39   \n",
      "4  [Tomatillo-Red Chili Salsa (Hot), [Black Beans...    $16.98   \n"
     ]
    }
   ],
   "source": [
    "import pandas as pd\n",
    "\n",
    "chipo = pd.read_csv('../data/chipotle.tsv', sep = '\\t')\n",
    "print(chipo.head())"
   ]
  },
  {
   "cell_type": "markdown",
   "metadata": {},
   "source": [
    "### Step 4. See the first 10 entries"
   ]
  },
  {
   "cell_type": "code",
   "execution_count": 55,
   "metadata": {
    "collapsed": false,
    "scrolled": false
   },
   "outputs": [
    {
     "name": "stdout",
     "output_type": "stream",
     "text": [
      "   order_id  quantity                              item_name  \\\n",
      "0         1         1           Chips and Fresh Tomato Salsa   \n",
      "1         1         1                                   Izze   \n",
      "2         1         1                       Nantucket Nectar   \n",
      "3         1         1  Chips and Tomatillo-Green Chili Salsa   \n",
      "4         2         2                           Chicken Bowl   \n",
      "5         3         1                           Chicken Bowl   \n",
      "6         3         1                          Side of Chips   \n",
      "7         4         1                          Steak Burrito   \n",
      "8         4         1                       Steak Soft Tacos   \n",
      "9         5         1                          Steak Burrito   \n",
      "\n",
      "                                  choice_description item_price  \n",
      "0                                                NaN     $2.39   \n",
      "1                                       [Clementine]     $3.39   \n",
      "2                                            [Apple]     $3.39   \n",
      "3                                                NaN     $2.39   \n",
      "4  [Tomatillo-Red Chili Salsa (Hot), [Black Beans...    $16.98   \n",
      "5  [Fresh Tomato Salsa (Mild), [Rice, Cheese, Sou...    $10.98   \n",
      "6                                                NaN     $1.69   \n",
      "7  [Tomatillo Red Chili Salsa, [Fajita Vegetables...    $11.75   \n",
      "8  [Tomatillo Green Chili Salsa, [Pinto Beans, Ch...     $9.25   \n",
      "9  [Fresh Tomato Salsa, [Rice, Black Beans, Pinto...     $9.25   \n"
     ]
    }
   ],
   "source": [
    "import pandas as pd\n",
    "\n",
    "chipo = pd.read_csv('../data/chipotle.tsv', sep = '\\t')\n",
    "print(chipo.head(10))"
   ]
  },
  {
   "cell_type": "markdown",
   "metadata": {},
   "source": [
    "### Step 5. What is the number of observations in the dataset?"
   ]
  },
  {
   "cell_type": "code",
   "execution_count": 56,
   "metadata": {
    "collapsed": false
   },
   "outputs": [
    {
     "name": "stdout",
     "output_type": "stream",
     "text": [
      "4622\n",
      "4622\n"
     ]
    }
   ],
   "source": [
    "import pandas as pd\n",
    "\n",
    "\n",
    "chipo = pd.read_csv('../data/chipotle.tsv', sep = '\\t')\n",
    "print(len(chipo))\n",
    "print(chipo.shape[0])"
   ]
  },
  {
   "cell_type": "markdown",
   "metadata": {},
   "source": [
    "### Step 6. What is the number of columns in the dataset?"
   ]
  },
  {
   "cell_type": "code",
   "execution_count": 57,
   "metadata": {
    "collapsed": false
   },
   "outputs": [
    {
     "name": "stdout",
     "output_type": "stream",
     "text": [
      "5\n",
      "5\n"
     ]
    }
   ],
   "source": [
    "import pandas as pd\n",
    "\n",
    "\n",
    "chipo = pd.read_csv('../data/chipotle.tsv', sep = '\\t')\n",
    "print(len(df.columns))\n",
    "print(chipo.shape[1])"
   ]
  },
  {
   "cell_type": "markdown",
   "metadata": {},
   "source": [
    "### Step 7. Print the name of all the columns."
   ]
  },
  {
   "cell_type": "code",
   "execution_count": 58,
   "metadata": {
    "collapsed": false
   },
   "outputs": [
    {
     "name": "stdout",
     "output_type": "stream",
     "text": [
      "order_id\n",
      "quantity\n",
      "item_name\n",
      "choice_description\n",
      "item_price\n"
     ]
    }
   ],
   "source": [
    "import pandas as pd\n",
    "\n",
    "chipo = pd.read_csv('../data/chipotle.tsv', sep = '\\t')\n",
    "for name_column in chipo.columns:\n",
    "    print(name_column)"
   ]
  },
  {
   "cell_type": "markdown",
   "metadata": {},
   "source": [
    "### Step 8. How is the dataset indexed?"
   ]
  },
  {
   "cell_type": "code",
   "execution_count": 59,
   "metadata": {
    "collapsed": false
   },
   "outputs": [
    {
     "name": "stdout",
     "output_type": "stream",
     "text": [
      "RangeIndex(start=0, stop=4622, step=1)\n",
      "None\n",
      "int64\n",
      "   order_id  quantity                              item_name  \\\n",
      "0         1         1           Chips and Fresh Tomato Salsa   \n",
      "1         1         1                                   Izze   \n",
      "2         1         1                       Nantucket Nectar   \n",
      "3         1         1  Chips and Tomatillo-Green Chili Salsa   \n",
      "4         2         2                           Chicken Bowl   \n",
      "\n",
      "                                  choice_description item_price  \n",
      "0                                                NaN     $2.39   \n",
      "1                                       [Clementine]     $3.39   \n",
      "2                                            [Apple]     $3.39   \n",
      "3                                                NaN     $2.39   \n",
      "4  [Tomatillo-Red Chili Salsa (Hot), [Black Beans...    $16.98   \n"
     ]
    }
   ],
   "source": [
    "#Indexing works in pandas include:\n",
    "#Row Index\n",
    "#Column Index\n",
    "#Invidual cells\n",
    "\n",
    "#Each row and column has a unique label and position nuber\n",
    "\n",
    "import pandas as pd\n",
    "\n",
    "chipo = pd.read_csv('../data/chipotle.tsv', sep = '\\t')\n",
    "print(chipo.index)\n",
    "print(chipo.index.name)\n",
    "print(chipo.index.dtype)\n",
    "print(chipo.head())"
   ]
  },
  {
   "cell_type": "markdown",
   "metadata": {},
   "source": [
    "### Step 9. Which was the most-ordered item? "
   ]
  },
  {
   "cell_type": "code",
   "execution_count": 60,
   "metadata": {
    "collapsed": false
   },
   "outputs": [
    {
     "name": "stdout",
     "output_type": "stream",
     "text": [
      "Most_ordered item: Chicken Bowl\n"
     ]
    }
   ],
   "source": [
    "import pandas as pd\n",
    "\n",
    "chipo = pd.read_csv('../data/chipotle.tsv', sep = '\\t')\n",
    "most_ordered_item = chipo.groupby('item_name')['quantity'].sum().sort_values(ascending = False)\n",
    "print(f\"Most_ordered item: {most_ordered_item.index[0]}\")"
   ]
  },
  {
   "cell_type": "markdown",
   "metadata": {},
   "source": [
    "### Step 10. For the most-ordered item, how many items were ordered?"
   ]
  },
  {
   "cell_type": "code",
   "execution_count": 61,
   "metadata": {
    "collapsed": false
   },
   "outputs": [
    {
     "name": "stdout",
     "output_type": "stream",
     "text": [
      "Item ordered: 761 times\n"
     ]
    }
   ],
   "source": [
    "import pandas as pd\n",
    "\n",
    "chipo = pd.read_csv('../data/chipotle.tsv', sep = '\\t')\n",
    "most_ordered = chipo.groupby('item_name')['quantity'].sum().sort_values(ascending = False)\n",
    "print(f\"Item ordered: {most_ordered.values[0]} times\")"
   ]
  },
  {
   "cell_type": "markdown",
   "metadata": {},
   "source": [
    "### Step 11. What was the most ordered item in the choice_description column?"
   ]
  },
  {
   "cell_type": "code",
   "execution_count": 62,
   "metadata": {
    "collapsed": false
   },
   "outputs": [
    {
     "name": "stdout",
     "output_type": "stream",
     "text": [
      "The most ordered item in the choice_description column is [Diet Coke]\n"
     ]
    }
   ],
   "source": [
    "import pandas as pd\n",
    "\n",
    "chipo = pd.read_csv('../data/chipotle.tsv', sep = '\\t')\n",
    "most_ordered_item = chipo.groupby('choice_description')['quantity'].sum().sort_values(ascending = False)\n",
    "print(f\"The most ordered item in the choice_description column is {most_ordered_item.index[0]}\")\n"
   ]
  },
  {
   "cell_type": "markdown",
   "metadata": {},
   "source": [
    "### Step 12. How many items were orderd in total?"
   ]
  },
  {
   "cell_type": "code",
   "execution_count": 75,
   "metadata": {
    "collapsed": false
   },
   "outputs": [
    {
     "name": "stdout",
     "output_type": "stream",
     "text": [
      "Total items ordered: item_name\n",
      "6 Pack Soft Drink                         55\n",
      "Barbacoa Bowl                             66\n",
      "Barbacoa Burrito                          91\n",
      "Barbacoa Crispy Tacos                     12\n",
      "Barbacoa Salad Bowl                       10\n",
      "Barbacoa Soft Tacos                       25\n",
      "Bottled Water                            211\n",
      "Bowl                                       4\n",
      "Burrito                                    6\n",
      "Canned Soda                              126\n",
      "Canned Soft Drink                        351\n",
      "Carnitas Bowl                             71\n",
      "Carnitas Burrito                          60\n",
      "Carnitas Crispy Tacos                      8\n",
      "Carnitas Salad                             1\n",
      "Carnitas Salad Bowl                        6\n",
      "Carnitas Soft Tacos                       40\n",
      "Chicken Bowl                             761\n",
      "Chicken Burrito                          591\n",
      "Chicken Crispy Tacos                      50\n",
      "Chicken Salad                              9\n",
      "Chicken Salad Bowl                       123\n",
      "Chicken Soft Tacos                       120\n",
      "Chips                                    230\n",
      "Chips and Fresh Tomato Salsa             130\n",
      "Chips and Guacamole                      506\n",
      "Chips and Mild Fresh Tomato Salsa          1\n",
      "Chips and Roasted Chili Corn Salsa        23\n",
      "Chips and Roasted Chili-Corn Salsa        18\n",
      "Chips and Tomatillo Green Chili Salsa     45\n",
      "Chips and Tomatillo Red Chili Salsa       50\n",
      "Chips and Tomatillo-Green Chili Salsa     33\n",
      "Chips and Tomatillo-Red Chili Salsa       25\n",
      "Crispy Tacos                               2\n",
      "Izze                                      20\n",
      "Nantucket Nectar                          29\n",
      "Salad                                      2\n",
      "Side of Chips                            110\n",
      "Steak Bowl                               221\n",
      "Steak Burrito                            386\n",
      "Steak Crispy Tacos                        36\n",
      "Steak Salad                                4\n",
      "Steak Salad Bowl                          31\n",
      "Steak Soft Tacos                          56\n",
      "Veggie Bowl                               87\n",
      "Veggie Burrito                            97\n",
      "Veggie Crispy Tacos                        1\n",
      "Veggie Salad                               6\n",
      "Veggie Salad Bowl                         18\n",
      "Veggie Soft Tacos                          8\n",
      "Name: quantity, dtype: int64\n"
     ]
    }
   ],
   "source": [
    "import pandas as pd\n",
    "\n",
    "chipo = pd.read_csv('../data/chipotle.tsv', sep = '\\t')\n",
    "total_items_ordered  = chipo.groupby('item_name')['quantity'].sum()\n",
    "print(f\"Total items ordered: {total_items_ordered}\")"
   ]
  },
  {
   "cell_type": "markdown",
   "metadata": {},
   "source": [
    "### Step 13. Turn the item price into a float"
   ]
  },
  {
   "cell_type": "markdown",
   "metadata": {},
   "source": [
    "#### Step 13.a. Check the item price type"
   ]
  },
  {
   "cell_type": "code",
   "execution_count": 76,
   "metadata": {
    "collapsed": false
   },
   "outputs": [
    {
     "name": "stdout",
     "output_type": "stream",
     "text": [
      "object\n"
     ]
    }
   ],
   "source": [
    "import pandas as pd\n",
    "\n",
    "chipo = pd.read_csv('../data/chipotle.tsv', sep = '\\t')\n",
    "print(chipo['item_price'].dtype)"
   ]
  },
  {
   "cell_type": "markdown",
   "metadata": {},
   "source": [
    "#### Step 13.b. Create a lambda function and change the type of item price"
   ]
  },
  {
   "cell_type": "code",
   "execution_count": 77,
   "metadata": {
    "collapsed": true
   },
   "outputs": [
    {
     "name": "stdout",
     "output_type": "stream",
     "text": [
      "0        2.39\n",
      "1        3.39\n",
      "2        3.39\n",
      "3        2.39\n",
      "4       16.98\n",
      "        ...  \n",
      "4617    11.75\n",
      "4618    11.75\n",
      "4619    11.25\n",
      "4620     8.75\n",
      "4621     8.75\n",
      "Name: item_price, Length: 4622, dtype: float64\n"
     ]
    }
   ],
   "source": [
    "import pandas as pd\n",
    "import numpy as np\n",
    "\n",
    "chipo = pd.read_csv('../data/chipotle.tsv', sep = '\\t')\n",
    "chipo['item_price'] = chipo['item_price'].apply(lambda x: float(x[1:]) if pd.notna(x) and len(x) > 1 else np.nan)\n",
    "print(chipo['item_price'])\n"
   ]
  },
  {
   "cell_type": "markdown",
   "metadata": {},
   "source": [
    "#### Step 13.c. Check the item price type"
   ]
  },
  {
   "cell_type": "code",
   "execution_count": 78,
   "metadata": {
    "collapsed": false
   },
   "outputs": [
    {
     "name": "stdout",
     "output_type": "stream",
     "text": [
      "Old type:  object\n",
      "New type:  0        2.39\n",
      "1        3.39\n",
      "2        3.39\n",
      "3        2.39\n",
      "4       16.98\n",
      "        ...  \n",
      "4617    11.75\n",
      "4618    11.75\n",
      "4619    11.25\n",
      "4620     8.75\n",
      "4621     8.75\n",
      "Name: item_price, Length: 4622, dtype: float64\n"
     ]
    }
   ],
   "source": [
    "import pandas as pd\n",
    "\n",
    "chipo = pd.read_csv('../data/chipotle.tsv', sep = '\\t')\n",
    "print(\"Old type: \",chipo['item_price'].dtype)\n",
    "price_to_float = lambda x: float(x[1:])\n",
    "chipo['item_price'] = chipo['item_price'].apply(price_to_float)\n",
    "print(\"New type: \",chipo['item_price'])\n"
   ]
  },
  {
   "cell_type": "markdown",
   "metadata": {},
   "source": [
    "### Step 14. How much was the revenue for the period in the dataset?"
   ]
  },
  {
   "cell_type": "code",
   "execution_count": 69,
   "metadata": {
    "collapsed": false
   },
   "outputs": [
    {
     "name": "stdout",
     "output_type": "stream",
     "text": [
      "The revenue is 39237.02\n"
     ]
    }
   ],
   "source": [
    "import pandas as pd\n",
    "\n",
    "chipo = pd.read_csv('../data/chipotle.tsv', sep = '\\t')\n",
    "chipo['item_price'] = chipo['item_price'].apply(lambda x: float(x[1:]))\n",
    "chipo['revenue'] = chipo['quantity'] * chipo['item_price']\n",
    "print(f\"The revenue is {chipo['revenue'].sum()}\")"
   ]
  },
  {
   "cell_type": "markdown",
   "metadata": {},
   "source": [
    "### Step 15. How many orders were made in the period?"
   ]
  },
  {
   "cell_type": "code",
   "execution_count": 71,
   "metadata": {
    "collapsed": false
   },
   "outputs": [
    {
     "name": "stdout",
     "output_type": "stream",
     "text": [
      "There are 1834 orders\n"
     ]
    }
   ],
   "source": [
    "import pandas as pd\n",
    "\n",
    "chipo = pd.read_csv('../data/chipotle.tsv', sep = '\\t')\n",
    "num_orders = chipo['order_id'].nunique()\n",
    "print(f\"There are {num_orders} orders\")\n"
   ]
  },
  {
   "cell_type": "markdown",
   "metadata": {},
   "source": [
    "### Step 16. What is the average revenue amount per order?"
   ]
  },
  {
   "cell_type": "code",
   "execution_count": 73,
   "metadata": {
    "collapsed": false
   },
   "outputs": [
    {
     "name": "stdout",
     "output_type": "stream",
     "text": [
      "The average revenue amount per order: $21.39423118865867\n"
     ]
    }
   ],
   "source": [
    "import pandas as pd\n",
    "\n",
    "chipo = pd.read_csv('../data/chipotle.tsv', sep = '\\t')\n",
    "chipo['item_price'] = chipo['item_price'].apply(lambda x: float(x[1:]))\n",
    "total_revenue = (chipo['quantity'] * chipo['item_price']).sum()\n",
    "num_orders = chipo['order_id'].nunique()\n",
    "avg_revenue_per_order = total_revenue / num_orders\n",
    "print(f\"The average revenue amount per order: ${avg_revenue_per_order}\")"
   ]
  },
  {
   "cell_type": "markdown",
   "metadata": {},
   "source": [
    "### Step 17. How many different items are sold?"
   ]
  },
  {
   "cell_type": "code",
   "execution_count": 74,
   "metadata": {
    "collapsed": false
   },
   "outputs": [
    {
     "name": "stdout",
     "output_type": "stream",
     "text": [
      "There are 50 different items\n"
     ]
    }
   ],
   "source": [
    "import pandas as pd\n",
    "\n",
    "chipo = pd.read_csv('../data/chipotle.tsv', sep = '\\t')\n",
    "num_diff_items = chipo['item_name'].nunique()\n",
    "print(f\"There are {num_diff_items} different items\")"
   ]
  }
 ],
 "metadata": {
  "anaconda-cloud": {},
  "kernelspec": {
   "display_name": "base",
   "language": "python",
   "name": "python3"
  },
  "language_info": {
   "codemirror_mode": {
    "name": "ipython",
    "version": 3
   },
   "file_extension": ".py",
   "mimetype": "text/x-python",
   "name": "python",
   "nbconvert_exporter": "python",
   "pygments_lexer": "ipython3",
   "version": "3.12.4"
  }
 },
 "nbformat": 4,
 "nbformat_minor": 0
}
