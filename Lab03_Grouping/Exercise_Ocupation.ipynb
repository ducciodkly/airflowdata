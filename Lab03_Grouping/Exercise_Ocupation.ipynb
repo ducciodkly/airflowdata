{
 "cells": [
  {
   "cell_type": "markdown",
   "metadata": {},
   "source": [
    "# Occupation"
   ]
  },
  {
   "attachments": {},
   "cell_type": "markdown",
   "metadata": {},
   "source": [
    "### Step 1. Import the necessary libraries"
   ]
  },
  {
   "cell_type": "code",
   "execution_count": 11,
   "metadata": {
    "collapsed": false
   },
   "outputs": [],
   "source": [
    "import pandas as pd"
   ]
  },
  {
   "attachments": {},
   "cell_type": "markdown",
   "metadata": {},
   "source": [
    "### Step 2. Import the dataset ocupation.tsv "
   ]
  },
  {
   "cell_type": "code",
   "execution_count": 2,
   "metadata": {},
   "outputs": [
    {
     "name": "stdout",
     "output_type": "stream",
     "text": [
      "    user_id|age|gender|occupation|zip_code\n",
      "0                  1|24|M|technician|85711\n",
      "1                       2|53|F|other|94043\n",
      "2                      3|23|M|writer|32067\n",
      "3                  4|24|M|technician|43537\n",
      "4                       5|33|F|other|15213\n",
      "..                                     ...\n",
      "938                 939|26|F|student|33319\n",
      "939           940|32|M|administrator|02215\n",
      "940                 941|20|M|student|97229\n",
      "941               942|48|F|librarian|78209\n",
      "942                 943|22|M|student|77841\n",
      "\n",
      "[943 rows x 1 columns]\n"
     ]
    }
   ],
   "source": [
    "df = pd.read_csv('../data/ocupation.tsv', sep= '\\t')\n",
    "print(df)"
   ]
  },
  {
   "cell_type": "markdown",
   "metadata": {},
   "source": [
    "### Step 3. Assign it to a variable called users."
   ]
  },
  {
   "cell_type": "code",
   "execution_count": 12,
   "metadata": {
    "collapsed": false
   },
   "outputs": [
    {
     "name": "stdout",
     "output_type": "stream",
     "text": [
      "     user_id  age gender     occupation zip_code\n",
      "0          1   24      M     technician    85711\n",
      "1          2   53      F          other    94043\n",
      "2          3   23      M         writer    32067\n",
      "3          4   24      M     technician    43537\n",
      "4          5   33      F          other    15213\n",
      "..       ...  ...    ...            ...      ...\n",
      "938      939   26      F        student    33319\n",
      "939      940   32      M  administrator    02215\n",
      "940      941   20      M        student    97229\n",
      "941      942   48      F      librarian    78209\n",
      "942      943   22      M        student    77841\n",
      "\n",
      "[943 rows x 5 columns]\n"
     ]
    }
   ],
   "source": [
    "users = pd.read_csv('../data/ocupation.tsv', sep= '|')\n",
    "print(users)"
   ]
  },
  {
   "cell_type": "markdown",
   "metadata": {},
   "source": [
    "### Step 4. Discover what is the mean age per occupation"
   ]
  },
  {
   "cell_type": "code",
   "execution_count": 7,
   "metadata": {
    "collapsed": false
   },
   "outputs": [
    {
     "name": "stdout",
     "output_type": "stream",
     "text": [
      "occupation\n",
      "retired          63.071429\n",
      "doctor           43.571429\n",
      "educator         42.010526\n",
      "healthcare       41.562500\n",
      "librarian        40.000000\n",
      "administrator    38.746835\n",
      "executive        38.718750\n",
      "marketing        37.615385\n",
      "lawyer           36.750000\n",
      "engineer         36.388060\n",
      "writer           36.311111\n",
      "salesman         35.666667\n",
      "scientist        35.548387\n",
      "other            34.523810\n",
      "technician       33.148148\n",
      "programmer       33.121212\n",
      "homemaker        32.571429\n",
      "artist           31.392857\n",
      "entertainment    29.222222\n",
      "none             26.555556\n",
      "student          22.081633\n",
      "Name: age, dtype: float64\n"
     ]
    }
   ],
   "source": [
    "mean_age = users.groupby('occupation')['age'].mean().sort_values(ascending=False)\n",
    "print(mean_age)"
   ]
  },
  {
   "cell_type": "markdown",
   "metadata": {},
   "source": [
    "### Step 5. Discover the Male ratio per occupation and sort it from the most to the least"
   ]
  },
  {
   "cell_type": "code",
   "execution_count": null,
   "metadata": {},
   "outputs": [],
   "source": []
  },
  {
   "cell_type": "code",
   "execution_count": 33,
   "metadata": {
    "collapsed": false
   },
   "outputs": [
    {
     "name": "stdout",
     "output_type": "stream",
     "text": [
      "       occupation  male_ratio\n",
      "2          doctor  100.000000\n",
      "4        engineer   97.014925\n",
      "19     technician   96.296296\n",
      "15        retired   92.857143\n",
      "14     programmer   90.909091\n",
      "6       executive   90.625000\n",
      "17      scientist   90.322581\n",
      "5   entertainment   88.888889\n",
      "9          lawyer   83.333333\n",
      "16       salesman   75.000000\n",
      "3        educator   72.631579\n",
      "18        student   69.387755\n",
      "13          other   65.714286\n",
      "11      marketing   61.538462\n",
      "20         writer   57.777778\n",
      "12           none   55.555556\n",
      "0   administrator   54.430380\n",
      "1          artist   53.571429\n",
      "10      librarian   43.137255\n",
      "7      healthcare   31.250000\n",
      "8       homemaker   14.285714\n"
     ]
    }
   ],
   "source": [
    "occupation_gender = users.groupby('occupation')['gender'].apply(lambda x: (x == 'M').mean()*100).reset_index()\n",
    "occupation_gender.columns = ['occupation', 'male_ratio']\n",
    "result = occupation_gender.sort_values('male_ratio', ascending=False)\n",
    "print(result)"
   ]
  },
  {
   "cell_type": "markdown",
   "metadata": {},
   "source": [
    "### Step 6. For each occupation, calculate the minimum and maximum ages"
   ]
  },
  {
   "cell_type": "code",
   "execution_count": 38,
   "metadata": {
    "collapsed": false
   },
   "outputs": [
    {
     "name": "stdout",
     "output_type": "stream",
     "text": [
      "               max  min\n",
      "occupation             \n",
      "administrator   70   21\n",
      "artist          48   19\n",
      "doctor          64   28\n",
      "educator        63   23\n",
      "engineer        70   22\n",
      "entertainment   50   15\n",
      "executive       69   22\n",
      "healthcare      62   22\n",
      "homemaker       50   20\n",
      "lawyer          53   21\n",
      "librarian       69   23\n",
      "marketing       55   24\n",
      "none            55   11\n",
      "other           64   13\n",
      "programmer      63   20\n",
      "retired         73   51\n",
      "salesman        66   18\n",
      "scientist       55   23\n",
      "student         42    7\n",
      "technician      55   21\n",
      "writer          60   18\n"
     ]
    }
   ],
   "source": [
    "occupation_age= users.groupby('occupation')['age'].agg(['max','min'])\n",
    "print(occupation_age)"
   ]
  },
  {
   "cell_type": "markdown",
   "metadata": {},
   "source": [
    "### Step 7. For each combination of occupation and gender, calculate the mean age"
   ]
  },
  {
   "cell_type": "code",
   "execution_count": 39,
   "metadata": {
    "collapsed": false
   },
   "outputs": [
    {
     "name": "stdout",
     "output_type": "stream",
     "text": [
      "occupation     gender\n",
      "retired        F         70.000000\n",
      "               M         62.538462\n",
      "healthcare     M         45.400000\n",
      "executive      F         44.000000\n",
      "doctor         M         43.571429\n",
      "educator       M         43.101449\n",
      "administrator  F         40.638889\n",
      "librarian      F         40.000000\n",
      "               M         40.000000\n",
      "healthcare     F         39.818182\n",
      "lawyer         F         39.500000\n",
      "educator       F         39.115385\n",
      "salesman       M         38.555556\n",
      "executive      M         38.172414\n",
      "technician     F         38.000000\n",
      "marketing      M         37.875000\n",
      "writer         F         37.631579\n",
      "marketing      F         37.200000\n",
      "administrator  M         37.162791\n",
      "engineer       M         36.600000\n",
      "none           F         36.500000\n",
      "scientist      M         36.321429\n",
      "lawyer         M         36.200000\n",
      "other          F         35.472222\n",
      "writer         M         35.346154\n",
      "homemaker      F         34.166667\n",
      "other          M         34.028986\n",
      "programmer     M         33.216667\n",
      "technician     M         32.961538\n",
      "artist         M         32.333333\n",
      "programmer     F         32.166667\n",
      "entertainment  F         31.000000\n",
      "artist         F         30.307692\n",
      "engineer       F         29.500000\n",
      "entertainment  M         29.000000\n",
      "scientist      F         28.333333\n",
      "salesman       F         27.000000\n",
      "homemaker      M         23.000000\n",
      "student        M         22.669118\n",
      "               F         20.750000\n",
      "none           M         18.600000\n",
      "Name: age, dtype: float64\n"
     ]
    }
   ],
   "source": [
    "combinate_occupation = users.groupby(['occupation','gender'])['age'].mean().sort_values(ascending=False)\n",
    "print(combinate_occupation)"
   ]
  },
  {
   "cell_type": "markdown",
   "metadata": {},
   "source": [
    "### Step 8.  For each occupation present the percentage of women and men"
   ]
  },
  {
   "cell_type": "code",
   "execution_count": 14,
   "metadata": {
    "collapsed": false
   },
   "outputs": [
    {
     "name": "stdout",
     "output_type": "stream",
     "text": [
      "                       F           M\n",
      "occupation                          \n",
      "administrator  45.569620   54.430380\n",
      "artist         46.428571   53.571429\n",
      "doctor               NaN  100.000000\n",
      "educator       27.368421   72.631579\n",
      "engineer        2.985075   97.014925\n",
      "entertainment  11.111111   88.888889\n",
      "executive       9.375000   90.625000\n",
      "healthcare     68.750000   31.250000\n",
      "homemaker      85.714286   14.285714\n",
      "lawyer         16.666667   83.333333\n",
      "librarian      56.862745   43.137255\n",
      "marketing      38.461538   61.538462\n",
      "none           44.444444   55.555556\n",
      "other          34.285714   65.714286\n",
      "programmer      9.090909   90.909091\n",
      "retired         7.142857   92.857143\n",
      "salesman       25.000000   75.000000\n",
      "scientist       9.677419   90.322581\n",
      "student        30.612245   69.387755\n",
      "technician      3.703704   96.296296\n",
      "writer         42.222222   57.777778\n"
     ]
    }
   ],
   "source": [
    "occupation_counts = users.groupby('occupation')['gender'].apply(lambda x: x.value_counts(normalize=True)*100).unstack()\n",
    "print(occupation_counts)"
   ]
  }
 ],
 "metadata": {
  "kernelspec": {
   "display_name": ".venv",
   "language": "python",
   "name": "python3"
  },
  "language_info": {
   "codemirror_mode": {
    "name": "ipython",
    "version": 3
   },
   "file_extension": ".py",
   "mimetype": "text/x-python",
   "name": "python",
   "nbconvert_exporter": "python",
   "pygments_lexer": "ipython3",
   "version": "3.12.4"
  }
 },
 "nbformat": 4,
 "nbformat_minor": 0
}
